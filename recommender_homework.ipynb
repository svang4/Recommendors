{
 "cells": [
  {
   "cell_type": "code",
   "execution_count": 5,
   "metadata": {
    "collapsed": false
   },
   "outputs": [],
   "source": [
    "import pandas as pd\n",
    "import numpy as np"
   ]
  },
  {
   "cell_type": "code",
   "execution_count": 2,
   "metadata": {
    "collapsed": false
   },
   "outputs": [],
   "source": [
    "#download the class movie reviews from here:\n",
    "#https://docs.google.com/spreadsheets/d/17rCJzmWxqvAu9rkpkgt4ToccIlY4A1Ffuu1W9X3B8Ag/\n",
    "#then read that in as a pandas dataframe"
   ]
  },
  {
   "cell_type": "code",
   "execution_count": 6,
   "metadata": {
    "collapsed": false
   },
   "outputs": [],
   "source": [
    "#Loading movie reviews csv\n",
    "\n",
    "M = pd.read_csv(\"MovieReviews.csv\", index_col='Name')"
   ]
  },
  {
   "cell_type": "code",
   "execution_count": 7,
   "metadata": {
    "collapsed": false
   },
   "outputs": [],
   "source": [
    "def pearson(s1, s2):\n",
    "    \"\"\"Take two pd.Series objects and return a pearson correlation.\"\"\"\n",
    "    s1_c = s1 - s1.mean()\n",
    "    s2_c = s2 - s2.mean()\n",
    "    return np.sum(s1_c * s2_c) / np.sqrt(np.sum(s1_c ** 2) * np.sum(s2_c ** 2))"
   ]
  },
  {
   "cell_type": "code",
   "execution_count": 8,
   "metadata": {
    "collapsed": false
   },
   "outputs": [],
   "source": [
    "def get_recs(movie_name, M, num):\n",
    "\n",
    "    import numpy as np\n",
    "    reviews = []\n",
    "    for title in M.columns:\n",
    "        if title == movie_name:\n",
    "            continue\n",
    "        cor = pearson(M[movie_name], M[title])\n",
    "        if np.isnan(cor):\n",
    "            continue\n",
    "        else:\n",
    "            reviews.append((title, cor))\n",
    "    \n",
    "    reviews.sort(key=lambda tup: tup[1], reverse=True)\n",
    "    return reviews[:num]\n",
    "\n",
    "    "
   ]
  },
  {
   "cell_type": "markdown",
   "metadata": {},
   "source": [
    "###Question 1:  What movie is most Similar to 'The fault in our stars' (60 pts)\n"
   ]
  },
  {
   "cell_type": "code",
   "execution_count": 9,
   "metadata": {
    "collapsed": false,
    "scrolled": true
   },
   "outputs": [
    {
     "data": {
      "text/plain": [
       "'How to Train your Dragon 2'"
      ]
     },
     "execution_count": 9,
     "metadata": {},
     "output_type": "execute_result"
    }
   ],
   "source": [
    "#Getting recommendations for our movie \n",
    "\n",
    "recos = get_recs(\"The Fault in Our Stars\", M, 1)\n",
    "recos[0][0]"
   ]
  },
  {
   "cell_type": "markdown",
   "metadata": {},
   "source": [
    "###Question 2:  Which movie(s) would you most like to see, based on your classmates experience? (40 pts)"
   ]
  },
  {
   "cell_type": "code",
   "execution_count": 6,
   "metadata": {
    "collapsed": false
   },
   "outputs": [
    {
     "data": {
      "text/plain": [
       "'Gone Girl'"
      ]
     },
     "execution_count": 6,
     "metadata": {},
     "output_type": "execute_result"
    }
   ],
   "source": [
    "#the movies I've seen\n",
    "my_ratings = M.ix['Sai Sampath'].dropna()\n",
    "#the movie I've rated the highest\n",
    "my_ratings.sort(ascending=False)\n",
    "#the name of the movie I've rated the highest\n",
    "fav_movie = my_ratings.index[0]\n",
    "fav_movie"
   ]
  },
  {
   "cell_type": "markdown",
   "metadata": {},
   "source": [
    "###Question 3: Bonus Question...  For all the movies you haven't seen, can you predict how you'd rate them using your the class reviews? (10 pts)"
   ]
  },
  {
   "cell_type": "code",
   "execution_count": 27,
   "metadata": {
    "collapsed": false
   },
   "outputs": [
    {
     "data": {
      "text/plain": [
       "The Hunger Games: Mockingjay - Part 1    3\n",
       "Guardians of the Galaxy                  4\n",
       "The Lego Movie                           3\n",
       "The Hobbit                               4\n",
       "Transformers                             4\n",
       "Malificent                               3\n",
       "Godzilla                                 4\n",
       "Interstellar                             4\n",
       "How to Train your Dragon 2               3\n",
       "Gone Girl                                5\n",
       "The Fault in Our Stars                   4\n",
       "300: Rise of an Empire                   3\n",
       "Name: Sai Sampath, dtype: float64"
      ]
     },
     "execution_count": 27,
     "metadata": {},
     "output_type": "execute_result"
    }
   ],
   "source": [
    "my_not_rated = M.ix['Sai Sampath']\n",
    "my_not_rated\n",
    "my_rated = M.ix['Sai Sampath'].dropna()\n",
    "my_rated\n",
    "\n",
    "#pearson(M['Sai Sampath'], M['Turdy Kline'])\n",
    "#M_inve = M.pivot_table\n",
    "#M_inve"
   ]
  },
  {
   "cell_type": "code",
   "execution_count": 26,
   "metadata": {
    "collapsed": false
   },
   "outputs": [
    {
     "name": "stdout",
     "output_type": "stream",
     "text": [
      "3.0\n",
      "The Hunger Games: Mockingjay - Part 1\n",
      "4.0\n",
      "Guardians of the Galaxy\n",
      "3.0\n",
      "The Lego Movie\n",
      "4.0\n",
      "The Hobbit\n",
      "4.0\n",
      "Transformers\n",
      "3.0\n",
      "Malificent\n",
      "4.0\n",
      "Godzilla\n",
      "4.0\n",
      "Interstellar\n",
      "3.0\n",
      "How to Train your Dragon 2\n",
      "5.0\n",
      "Gone Girl\n",
      "4.0\n",
      "The Fault in Our Stars\n",
      "3.0\n",
      "300: Rise of an Empire\n"
     ]
    }
   ],
   "source": [
    "for i in range(len(my_rated)):\n",
    "        item_rating = my_rated[i]\n",
    "        item_name = my_rated.index[i]\n",
    "        print item_rating\n",
    "        print item_name\n",
    "\n",
    "        #get users who has rated same rating for this movie\n",
    "        \n",
    "        #get unique users from the total list of users who match our movie ratings\n",
    "        \n",
    "        #get ratings of these users for the target movie\n",
    "        \n",
    "        #average the ratings for that movie and that will be our predicted rating for the movie which we didnt rate\n",
    "        \n",
    "        "
   ]
  },
  {
   "cell_type": "code",
   "execution_count": null,
   "metadata": {
    "collapsed": true
   },
   "outputs": [],
   "source": []
  }
 ],
 "metadata": {
  "kernelspec": {
   "display_name": "Python 2",
   "language": "python",
   "name": "python2"
  },
  "language_info": {
   "codemirror_mode": {
    "name": "ipython",
    "version": 2
   },
   "file_extension": ".py",
   "mimetype": "text/x-python",
   "name": "python",
   "nbconvert_exporter": "python",
   "pygments_lexer": "ipython2",
   "version": "2.7.10"
  }
 },
 "nbformat": 4,
 "nbformat_minor": 0
}
